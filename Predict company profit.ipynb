{
 "cells": [
  {
   "cell_type": "code",
   "execution_count": 34,
   "id": "e12c0ab2",
   "metadata": {},
   "outputs": [
    {
     "data": {
      "text/html": [
       "<div>\n",
       "<style scoped>\n",
       "    .dataframe tbody tr th:only-of-type {\n",
       "        vertical-align: middle;\n",
       "    }\n",
       "\n",
       "    .dataframe tbody tr th {\n",
       "        vertical-align: top;\n",
       "    }\n",
       "\n",
       "    .dataframe thead th {\n",
       "        text-align: right;\n",
       "    }\n",
       "</style>\n",
       "<table border=\"1\" class=\"dataframe\">\n",
       "  <thead>\n",
       "    <tr style=\"text-align: right;\">\n",
       "      <th></th>\n",
       "      <th>R&amp;D Spend</th>\n",
       "      <th>Administration</th>\n",
       "      <th>Marketing Spend</th>\n",
       "      <th>State</th>\n",
       "      <th>Profit</th>\n",
       "    </tr>\n",
       "  </thead>\n",
       "  <tbody>\n",
       "    <tr>\n",
       "      <th>0</th>\n",
       "      <td>165349.20</td>\n",
       "      <td>136897.80</td>\n",
       "      <td>471784.10</td>\n",
       "      <td>New York</td>\n",
       "      <td>192261.83</td>\n",
       "    </tr>\n",
       "    <tr>\n",
       "      <th>1</th>\n",
       "      <td>162597.70</td>\n",
       "      <td>151377.59</td>\n",
       "      <td>443898.53</td>\n",
       "      <td>California</td>\n",
       "      <td>191792.06</td>\n",
       "    </tr>\n",
       "    <tr>\n",
       "      <th>2</th>\n",
       "      <td>153441.51</td>\n",
       "      <td>101145.55</td>\n",
       "      <td>407934.54</td>\n",
       "      <td>Florida</td>\n",
       "      <td>191050.39</td>\n",
       "    </tr>\n",
       "  </tbody>\n",
       "</table>\n",
       "</div>"
      ],
      "text/plain": [
       "   R&D Spend  Administration  Marketing Spend       State     Profit\n",
       "0  165349.20       136897.80        471784.10    New York  192261.83\n",
       "1  162597.70       151377.59        443898.53  California  191792.06\n",
       "2  153441.51       101145.55        407934.54     Florida  191050.39"
      ]
     },
     "execution_count": 34,
     "metadata": {},
     "output_type": "execute_result"
    }
   ],
   "source": [
    "import pandas as pd\n",
    "import matplotlib.pyplot as plt\n",
    "import seaborn as sns\n",
    "\n",
    "company = pd.read_csv(r\"D:\\Nishanth ML Project\\1000_Companies.csv\")\n",
    "\n",
    "company.head(3)"
   ]
  },
  {
   "cell_type": "code",
   "execution_count": 2,
   "id": "a647633a",
   "metadata": {},
   "outputs": [
    {
     "data": {
      "text/html": [
       "<div>\n",
       "<style scoped>\n",
       "    .dataframe tbody tr th:only-of-type {\n",
       "        vertical-align: middle;\n",
       "    }\n",
       "\n",
       "    .dataframe tbody tr th {\n",
       "        vertical-align: top;\n",
       "    }\n",
       "\n",
       "    .dataframe thead th {\n",
       "        text-align: right;\n",
       "    }\n",
       "</style>\n",
       "<table border=\"1\" class=\"dataframe\">\n",
       "  <thead>\n",
       "    <tr style=\"text-align: right;\">\n",
       "      <th></th>\n",
       "      <th>R&amp;D Spend</th>\n",
       "      <th>Administration</th>\n",
       "      <th>Marketing Spend</th>\n",
       "      <th>Profit</th>\n",
       "    </tr>\n",
       "  </thead>\n",
       "  <tbody>\n",
       "    <tr>\n",
       "      <th>R&amp;D Spend</th>\n",
       "      <td>1.000000</td>\n",
       "      <td>0.582434</td>\n",
       "      <td>0.978407</td>\n",
       "      <td>0.945245</td>\n",
       "    </tr>\n",
       "    <tr>\n",
       "      <th>Administration</th>\n",
       "      <td>0.582434</td>\n",
       "      <td>1.000000</td>\n",
       "      <td>0.520465</td>\n",
       "      <td>0.741560</td>\n",
       "    </tr>\n",
       "    <tr>\n",
       "      <th>Marketing Spend</th>\n",
       "      <td>0.978407</td>\n",
       "      <td>0.520465</td>\n",
       "      <td>1.000000</td>\n",
       "      <td>0.917270</td>\n",
       "    </tr>\n",
       "    <tr>\n",
       "      <th>Profit</th>\n",
       "      <td>0.945245</td>\n",
       "      <td>0.741560</td>\n",
       "      <td>0.917270</td>\n",
       "      <td>1.000000</td>\n",
       "    </tr>\n",
       "  </tbody>\n",
       "</table>\n",
       "</div>"
      ],
      "text/plain": [
       "                 R&D Spend  Administration  Marketing Spend    Profit\n",
       "R&D Spend         1.000000        0.582434         0.978407  0.945245\n",
       "Administration    0.582434        1.000000         0.520465  0.741560\n",
       "Marketing Spend   0.978407        0.520465         1.000000  0.917270\n",
       "Profit            0.945245        0.741560         0.917270  1.000000"
      ]
     },
     "execution_count": 2,
     "metadata": {},
     "output_type": "execute_result"
    }
   ],
   "source": [
    "company.corr()"
   ]
  },
  {
   "cell_type": "code",
   "execution_count": 5,
   "id": "77300534",
   "metadata": {},
   "outputs": [
    {
     "data": {
      "text/plain": [
       "<AxesSubplot:>"
      ]
     },
     "execution_count": 5,
     "metadata": {},
     "output_type": "execute_result"
    },
    {
     "data": {
      "image/png": "[encoded data removed]",
      "text/plain": [
       "<Figure size 432x288 with 2 Axes>"
      ]
     },
     "metadata": {
      "needs_background": "light"
     },
     "output_type": "display_data"
    }
   ],
   "source": [
    "sns.heatmap(company.corr(), annot = True)"
   ]
  },
  {
   "cell_type": "code",
   "execution_count": 7,
   "id": "de5549a2",
   "metadata": {},
   "outputs": [
    {
     "data": {
      "image/png": "[encoded data removed]",
      "text/plain": [
       "<Figure size 432x288 with 1 Axes>"
      ]
     },
     "metadata": {
      "needs_background": "light"
     },
     "output_type": "display_data"
    }
   ],
   "source": [
    "company.plot(x = 'R&D Spend', y = 'Profit', style = '1')\n",
    "plt.title('R&DSpend vs Profit')\n",
    "plt.xlabel('R&Dspends')\n",
    "plt.ylabel('Profit')\n",
    "plt.show()"
   ]
  },
  {
   "cell_type": "code",
   "execution_count": 8,
   "id": "2cd0f5aa",
   "metadata": {},
   "outputs": [
    {
     "data": {
      "image/png": "[encoded data removed]",
      "text/plain": [
       "<Figure size 432x288 with 1 Axes>"
      ]
     },
     "metadata": {
      "needs_background": "light"
     },
     "output_type": "display_data"
    }
   ],
   "source": [
    "company.plot(x = 'Administration', y = 'Profit', style = '1')\n",
    "plt.title('Administration vs Profit')\n",
    "plt.xlabel('Administration')\n",
    "plt.ylabel('Profit')\n",
    "plt.show()"
   ]
  },
  {
   "cell_type": "code",
   "execution_count": 9,
   "id": "297a2857",
   "metadata": {},
   "outputs": [
    {
     "data": {
      "image/png": "[encoded data removed]",
      "text/plain": [
       "<Figure size 432x288 with 1 Axes>"
      ]
     },
     "metadata": {
      "needs_background": "light"
     },
     "output_type": "display_data"
    }
   ],
   "source": [
    "company.plot(x = 'Marketing Spend', y = 'Profit', style = '1')\n",
    "plt.title('Marketing Spend vs Profit')\n",
    "plt.xlabel('Marketing Spend')\n",
    "plt.ylabel('Profit')\n",
    "plt.show()"
   ]
  },
  {
   "cell_type": "code",
   "execution_count": 10,
   "id": "6b15c4b9",
   "metadata": {},
   "outputs": [
    {
     "name": "stdout",
     "output_type": "stream",
     "text": [
      "<class 'pandas.core.frame.DataFrame'>\n",
      "RangeIndex: 1000 entries, 0 to 999\n",
      "Data columns (total 5 columns):\n",
      " #   Column           Non-Null Count  Dtype  \n",
      "---  ------           --------------  -----  \n",
      " 0   R&D Spend        1000 non-null   float64\n",
      " 1   Administration   1000 non-null   float64\n",
      " 2   Marketing Spend  1000 non-null   float64\n",
      " 3   State            1000 non-null   object \n",
      " 4   Profit           1000 non-null   float64\n",
      "dtypes: float64(4), object(1)\n",
      "memory usage: 39.2+ KB\n"
     ]
    }
   ],
   "source": [
    "company.info()"
   ]
  },
  {
   "cell_type": "code",
   "execution_count": 12,
   "id": "e2ede3a6",
   "metadata": {},
   "outputs": [
    {
     "data": {
      "text/html": [
       "<div>\n",
       "<style scoped>\n",
       "    .dataframe tbody tr th:only-of-type {\n",
       "        vertical-align: middle;\n",
       "    }\n",
       "\n",
       "    .dataframe tbody tr th {\n",
       "        vertical-align: top;\n",
       "    }\n",
       "\n",
       "    .dataframe thead th {\n",
       "        text-align: right;\n",
       "    }\n",
       "</style>\n",
       "<table border=\"1\" class=\"dataframe\">\n",
       "  <thead>\n",
       "    <tr style=\"text-align: right;\">\n",
       "      <th></th>\n",
       "      <th>R&amp;D Spend</th>\n",
       "      <th>Administration</th>\n",
       "      <th>Marketing Spend</th>\n",
       "      <th>State</th>\n",
       "      <th>Profit</th>\n",
       "    </tr>\n",
       "  </thead>\n",
       "  <tbody>\n",
       "    <tr>\n",
       "      <th>count</th>\n",
       "      <td>1000.000000</td>\n",
       "      <td>1000.000000</td>\n",
       "      <td>1000.000000</td>\n",
       "      <td>1000</td>\n",
       "      <td>1000.000000</td>\n",
       "    </tr>\n",
       "    <tr>\n",
       "      <th>unique</th>\n",
       "      <td>NaN</td>\n",
       "      <td>NaN</td>\n",
       "      <td>NaN</td>\n",
       "      <td>3</td>\n",
       "      <td>NaN</td>\n",
       "    </tr>\n",
       "    <tr>\n",
       "      <th>top</th>\n",
       "      <td>NaN</td>\n",
       "      <td>NaN</td>\n",
       "      <td>NaN</td>\n",
       "      <td>California</td>\n",
       "      <td>NaN</td>\n",
       "    </tr>\n",
       "    <tr>\n",
       "      <th>freq</th>\n",
       "      <td>NaN</td>\n",
       "      <td>NaN</td>\n",
       "      <td>NaN</td>\n",
       "      <td>344</td>\n",
       "      <td>NaN</td>\n",
       "    </tr>\n",
       "    <tr>\n",
       "      <th>mean</th>\n",
       "      <td>81668.927200</td>\n",
       "      <td>122963.897612</td>\n",
       "      <td>226205.058419</td>\n",
       "      <td>NaN</td>\n",
       "      <td>119546.164656</td>\n",
       "    </tr>\n",
       "    <tr>\n",
       "      <th>std</th>\n",
       "      <td>46537.567891</td>\n",
       "      <td>12613.927535</td>\n",
       "      <td>91578.393542</td>\n",
       "      <td>NaN</td>\n",
       "      <td>42888.633848</td>\n",
       "    </tr>\n",
       "    <tr>\n",
       "      <th>min</th>\n",
       "      <td>0.000000</td>\n",
       "      <td>51283.140000</td>\n",
       "      <td>0.000000</td>\n",
       "      <td>NaN</td>\n",
       "      <td>14681.400000</td>\n",
       "    </tr>\n",
       "    <tr>\n",
       "      <th>25%</th>\n",
       "      <td>43084.500000</td>\n",
       "      <td>116640.684850</td>\n",
       "      <td>150969.584600</td>\n",
       "      <td>NaN</td>\n",
       "      <td>85943.198543</td>\n",
       "    </tr>\n",
       "    <tr>\n",
       "      <th>50%</th>\n",
       "      <td>79936.000000</td>\n",
       "      <td>122421.612150</td>\n",
       "      <td>224517.887350</td>\n",
       "      <td>NaN</td>\n",
       "      <td>117641.466300</td>\n",
       "    </tr>\n",
       "    <tr>\n",
       "      <th>75%</th>\n",
       "      <td>124565.500000</td>\n",
       "      <td>129139.118000</td>\n",
       "      <td>308189.808525</td>\n",
       "      <td>NaN</td>\n",
       "      <td>155577.107425</td>\n",
       "    </tr>\n",
       "    <tr>\n",
       "      <th>max</th>\n",
       "      <td>165349.200000</td>\n",
       "      <td>321652.140000</td>\n",
       "      <td>471784.100000</td>\n",
       "      <td>NaN</td>\n",
       "      <td>476485.430000</td>\n",
       "    </tr>\n",
       "  </tbody>\n",
       "</table>\n",
       "</div>"
      ],
      "text/plain": [
       "            R&D Spend  Administration  Marketing Spend       State  \\\n",
       "count     1000.000000     1000.000000      1000.000000        1000   \n",
       "unique            NaN             NaN              NaN           3   \n",
       "top               NaN             NaN              NaN  California   \n",
       "freq              NaN             NaN              NaN         344   \n",
       "mean     81668.927200   122963.897612    226205.058419         NaN   \n",
       "std      46537.567891    12613.927535     91578.393542         NaN   \n",
       "min          0.000000    51283.140000         0.000000         NaN   \n",
       "25%      43084.500000   116640.684850    150969.584600         NaN   \n",
       "50%      79936.000000   122421.612150    224517.887350         NaN   \n",
       "75%     124565.500000   129139.118000    308189.808525         NaN   \n",
       "max     165349.200000   321652.140000    471784.100000         NaN   \n",
       "\n",
       "               Profit  \n",
       "count     1000.000000  \n",
       "unique            NaN  \n",
       "top               NaN  \n",
       "freq              NaN  \n",
       "mean    119546.164656  \n",
       "std      42888.633848  \n",
       "min      14681.400000  \n",
       "25%      85943.198543  \n",
       "50%     117641.466300  \n",
       "75%     155577.107425  \n",
       "max     476485.430000  "
      ]
     },
     "execution_count": 12,
     "metadata": {},
     "output_type": "execute_result"
    }
   ],
   "source": [
    "company.describe(include = 'all')"
   ]
  },
  {
   "cell_type": "code",
   "execution_count": 40,
   "id": "26780ef5",
   "metadata": {},
   "outputs": [],
   "source": [
    "X = company.iloc[:, :-1].values"
   ]
  },
  {
   "cell_type": "code",
   "execution_count": 41,
   "id": "fc6798a5",
   "metadata": {},
   "outputs": [],
   "source": [
    "y = company.iloc[:, 4].values\n"
   ]
  },
  {
   "cell_type": "code",
   "execution_count": 42,
   "id": "009e1c90",
   "metadata": {},
   "outputs": [
    {
     "name": "stdout",
     "output_type": "stream",
     "text": [
      "[array([[0.0, 0.0, 1.0, 996, 136897.8, 471784.1],\n",
      "       [1.0, 0.0, 0.0, 995, 151377.59, 443898.53],\n",
      "       [0.0, 1.0, 0.0, 947, 101145.55, 407934.54],\n",
      "       ...,\n",
      "       [1.0, 0.0, 0.0, 601, 241926.31, 227142.82],\n",
      "       [1.0, 0.0, 0.0, 775, 321652.14, 281692.32],\n",
      "       [0.0, 0.0, 1.0, 994, 270939.86, 295442.17]], dtype=object)]\n"
     ]
    }
   ],
   "source": [
    "# Encoding categorical data\n",
    "from sklearn.preprocessing import LabelEncoder, OneHotEncoder\n",
    "from sklearn.compose import ColumnTransformer\n",
    "ct = ColumnTransformer([(\"State\",OneHotEncoder(),[3])], remainder= 'passthrough')\n",
    "X = ct.fit_transform(X)\n",
    "labelencoder_X = LabelEncoder()\n",
    "X[:, 3] = labelencoder_X.fit_transform(X[:, 3])\n",
    "print([X])"
   ]
  },
  {
   "cell_type": "code",
   "execution_count": 44,
   "id": "82696d95",
   "metadata": {},
   "outputs": [],
   "source": [
    "from sklearn.model_selection import train_test_split\n",
    "X_train, X_test, y_train, y_test = train_test_split(X,y, test_size = 0.3, random_state = 0)"
   ]
  },
  {
   "cell_type": "code",
   "execution_count": 46,
   "id": "5e88870a",
   "metadata": {},
   "outputs": [
    {
     "data": {
      "text/plain": [
       "array([ 89209.29712496,  87425.46222148,  94331.95715479, 176518.10021383,\n",
       "        82378.85866042, 111595.66195457, 134266.46250268,  90882.06980048,\n",
       "       164223.49472887,  53184.69772557,  66656.9406336 , 149124.74103709,\n",
       "       126459.34208734,  59031.71115915, 178314.39292755,  74877.84695839,\n",
       "       118903.48496647, 163768.91958137, 173405.29298003, 182761.3200452 ,\n",
       "       123713.7191151 ,  84494.83905175, 181239.82498199,  82968.79575704,\n",
       "       105267.72962793, 100697.88747752,  55801.46111257,  56752.26018672,\n",
       "        68439.06588912, 211955.50629929, 121090.55875931, 112522.1577683 ,\n",
       "       101573.39260659, 136584.4668745 ,  63308.94939498, 109627.13044847,\n",
       "       186834.78965118, 171998.41051963, 175681.86812277, 118339.36371242,\n",
       "        96432.6140469 , 164945.20098842, 108507.08061171,  50222.70533075,\n",
       "       117209.34043017,  58332.97123867, 157092.20461673,  77821.21086508,\n",
       "       158691.93309666, 130911.43463263, 185208.24028126, 175586.07493639,\n",
       "        93530.25248636,  77757.22534106, 180994.22644234,  83282.61449395,\n",
       "       142289.31907953, 171269.52387119,  83180.53962374, 105919.25804721,\n",
       "       140962.3662306 ,  52671.61890907, 140449.90838915, 138001.99996185,\n",
       "        97772.9395901 , 114370.56849585, 126756.50186315, 150444.7473865 ,\n",
       "        58793.26939381, 175127.03190352, 124615.21482845, 168718.44407691,\n",
       "        90902.76206265, 154636.45077549,  83198.49537958,  77402.50058463,\n",
       "       120533.229143  ,  93255.50233444, 137492.214151  , 142804.96458944,\n",
       "       171795.04572589, 138826.26714193, 107253.31093891, 154215.28679445,\n",
       "       138843.55113389, 111105.27361541,  69492.12684002,  87349.06639669,\n",
       "       138928.47196036, 147465.58616939, 156497.96043473,  58210.46320476,\n",
       "        93472.40261821, 113493.04134725,  56211.31555524, 108336.67246308,\n",
       "       146654.13420933, 150529.49857914, 167667.30295822, 119335.42421523,\n",
       "       121002.95805665, 137840.89261914, 156093.03561338, 122231.26802157,\n",
       "        86179.52891944, 105118.20706953,  95284.75702307, 179366.59563544,\n",
       "       182101.26662423, 110719.93958297, 164619.35195643, 167546.03318605,\n",
       "       156695.95843954, 175758.58048504, 170080.99277574,  52214.17035449,\n",
       "       177669.4388151 , 104999.91685485,  81642.53152816, 137477.44041226,\n",
       "       143590.29321263, 160638.57387672, 169960.27472723, 120629.73476465,\n",
       "       157609.66391421, 111001.81368124, 169822.24768482,  60758.93445731,\n",
       "       157492.10992829, 156482.48121976, 175483.64385398, 154850.47774489,\n",
       "       103676.19363172,  84519.95931523, 140269.34020577, 165827.14145466,\n",
       "       121501.5390005 , 172367.11540328, 100172.26841201,  81245.8320272 ,\n",
       "       179351.47262181, 101416.1944883 ,  70283.66451467,  89763.98752561,\n",
       "        61325.02315987,  68890.79143822,  72261.54445714, 177578.27608964,\n",
       "        89112.49183288, 134442.07103309,  92455.49629913,  87318.43546076,\n",
       "       173449.95204337,  60895.33418367, 168880.16652311, 166171.34995328,\n",
       "       165278.91911773, 102081.12843852, 181914.82961025,  73295.75074866,\n",
       "        90553.01496876, 134528.06088143,  64393.20983356,  71297.25898938,\n",
       "        60814.30778784, 184718.89666425, 177256.71043793, 157640.07064222,\n",
       "       140369.57061338, 153177.34885717,  58337.78828449,  90222.54439805,\n",
       "       151567.95541428, 168136.56951579,  71835.40152759, 116697.93644243,\n",
       "        79518.53740762, 148513.01933657, 117674.92494408, 130092.59961472,\n",
       "       175392.70740337, 313905.44107679, 145616.64176109, 149258.42111003,\n",
       "        85021.25981   ,  69553.11683694,  69850.47015017,  68577.246574  ,\n",
       "       120982.07236716,  89201.64732172, 166590.22310701, 125228.51494275,\n",
       "        66966.2587477 , 135816.03241283, 119006.36938351, 165536.01318423,\n",
       "       168486.99621915, 146329.27337945, 140547.26539402, 109923.62540857,\n",
       "        81503.63841887, 155095.36387101, 135341.82867075,  60658.51060609,\n",
       "       142858.88936279, 177773.78080751,  86587.63574702, 135444.03347831,\n",
       "       169878.72934517,  94854.92222173, 136037.71898849, 126163.90870557,\n",
       "        25800.7043227 ,  70572.74291628, 166698.2569712 , 137569.54172686,\n",
       "       127122.26881181, 136350.49289313,  82694.19806285, 130691.2719965 ,\n",
       "       170751.91071102, 109576.63079064, 123774.78873556, 118204.51878636,\n",
       "        60542.41410064, 126425.30985746, 180290.62185647,  53693.27592253,\n",
       "       122943.78182374, 173950.37047991,  69663.28797435, 150603.07764221,\n",
       "       133565.58909115,  60209.08491118,  84619.54078838,  83785.24352178,\n",
       "        98230.3881512 ,  75591.21470627, 128214.70498804, 111363.46894585,\n",
       "        59870.03281223, 101807.91623834, 147109.58248199, 157742.112775  ,\n",
       "       160395.46871238, 186129.66200659,  55720.16726918, 153548.98782399,\n",
       "        67070.60074012, 163478.31029718,  63560.78983362,  58923.839973  ,\n",
       "       139220.71637686,  62038.39090558,  61594.78652964, 129661.34006381,\n",
       "       168078.83284979, 121193.47600215,  65359.94117804,  27540.13393602,\n",
       "       146119.22118683, 178957.04024306, 176940.42211919, 137596.91235561,\n",
       "        76219.62106639, 180736.96970104, 105966.82565702, 102444.86434621,\n",
       "       174065.00940347, 129069.26579321, 144156.65778453, 121629.00097881,\n",
       "       123792.01618574, 106366.06040227,  73936.56046138, 111995.08111656,\n",
       "        80363.42433849, 150362.3359267 , 126012.4188055 ,  65470.6946924 ,\n",
       "        76536.9779225 ,  92686.58794469, 154852.48498151, 143694.27898198,\n",
       "       164110.11786923,  52267.44251305,  99628.03771653, 158814.07600485,\n",
       "       141609.78101354,  89240.69907226,  98456.03968976, 171306.02559453,\n",
       "       182123.73984818, 139050.34791382, 158236.06304858, 141862.10751337,\n",
       "       345452.55025737, 138407.83064578, 143684.96131987, 116385.49345493])"
      ]
     },
     "execution_count": 46,
     "metadata": {},
     "output_type": "execute_result"
    }
   ],
   "source": [
    "from sklearn.linear_model import LinearRegression\n",
    "\n",
    "regressor = LinearRegression()\n",
    "regressor.fit(X_train, y_train)\n",
    "y_pred = regressor.predict(X_test)\n",
    "y_pred"
   ]
  },
  {
   "cell_type": "code",
   "execution_count": 47,
   "id": "f4880b8e",
   "metadata": {},
   "outputs": [
    {
     "name": "stdout",
     "output_type": "stream",
     "text": [
      "-67699.26877918767\n"
     ]
    }
   ],
   "source": [
    "print(regressor.intercept_)"
   ]
  },
  {
   "cell_type": "code",
   "execution_count": 51,
   "id": "938ddde9",
   "metadata": {},
   "outputs": [
    {
     "data": {
      "text/plain": [
       "0.9310194894359526"
      ]
     },
     "execution_count": 51,
     "metadata": {},
     "output_type": "execute_result"
    }
   ],
   "source": [
    "from sklearn.metrics import r2_score\n",
    "r2_score(y_test, y_pred)"
   ]
  },
  {
   "cell_type": "code",
   "execution_count": null,
   "id": "64b3e55d",
   "metadata": {},
   "outputs": [],
   "source": []
  }
 ],
 "metadata": {
  "kernelspec": {
   "display_name": "Python 3",
   "language": "python",
   "name": "python3"
  },
  "language_info": {
   "codemirror_mode": {
    "name": "ipython",
    "version": 3
   },
   "file_extension": ".py",
   "mimetype": "text/x-python",
   "name": "python",
   "nbconvert_exporter": "python",
   "pygments_lexer": "ipython3",
   "version": "3.8.8"
  }
 },
 "nbformat": 4,
 "nbformat_minor": 5
}
